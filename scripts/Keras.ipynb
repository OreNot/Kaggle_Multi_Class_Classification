{
 "cells": [
  {
   "cell_type": "code",
   "execution_count": 1,
   "id": "62467944-5a5f-4caa-b5e8-c7af313b821d",
   "metadata": {},
   "outputs": [],
   "source": [
    "import numpy as np\n",
    "import pandas as pd\n",
    "from keras.models import Sequential\n",
    "from keras.layers import Dense\n",
    "from keras.wrappers.scikit_learn import KerasClassifier\n",
    "from sklearn.model_selection import KFold\n",
    "from sklearn.preprocessing import LabelEncoder\n",
    "from keras.utils import np_utils\n",
    "from sklearn.model_selection import cross_val_score\n",
    "import joblib\n",
    "\n",
    "from sklearn.utils import class_weight\n",
    "\n",
    "from sklearn.pipeline import Pipeline\n",
    "from sklearn.preprocessing import FunctionTransformer\n",
    "\n",
    "from sklearn.model_selection import train_test_split\n",
    "from sklearn.metrics import accuracy_score, f1_score, roc_auc_score, precision_score, recall_score, confusion_matrix "
   ]
  },
  {
   "cell_type": "code",
   "execution_count": 2,
   "id": "d054dea6-c5b2-4f9d-bdea-0fcff1324a4f",
   "metadata": {},
   "outputs": [],
   "source": [
    "pd.set_option('display.max_rows', 500)\n",
    "pd.set_option('display.max_columns', 500)\n",
    "pd.set_option('display.width', 1000)\n",
    "\n",
    "RANDOM_SEED = 42"
   ]
  },
  {
   "cell_type": "code",
   "execution_count": 3,
   "id": "308c49d8-93a8-4400-9012-ef4145e916ee",
   "metadata": {},
   "outputs": [
    {
     "data": {
      "text/plain": [
       "(7905, 20)"
      ]
     },
     "execution_count": 3,
     "metadata": {},
     "output_type": "execute_result"
    }
   ],
   "source": [
    "df_train = pd.read_csv('../data/train.csv')\n",
    "df_train.shape"
   ]
  },
  {
   "cell_type": "code",
   "execution_count": 4,
   "id": "bc584a9a-eb19-457a-ab4d-eade1a436727",
   "metadata": {},
   "outputs": [
    {
     "data": {
      "text/plain": [
       "(5271, 19)"
      ]
     },
     "execution_count": 4,
     "metadata": {},
     "output_type": "execute_result"
    }
   ],
   "source": [
    "df_test = pd.read_csv('../data/test.csv')\n",
    "df_test.shape"
   ]
  },
  {
   "cell_type": "code",
   "execution_count": 5,
   "id": "f81f8dc9-0dda-44c1-a4f1-4283ed9494e1",
   "metadata": {},
   "outputs": [
    {
     "data": {
      "text/plain": [
       "{'scaler': StandardScaler(),\n",
       " 'encoder': OneHotEncoder(handle_unknown='ignore', sparse=False, sparse_output=False)}"
      ]
     },
     "execution_count": 5,
     "metadata": {},
     "output_type": "execute_result"
    }
   ],
   "source": [
    "preprocessing_dict = joblib.load('../pickles/prep_tools.pickle')\n",
    "preprocessing_dict"
   ]
  },
  {
   "cell_type": "code",
   "execution_count": 6,
   "id": "cf9d8075-8f4a-417c-9df5-78264a065c20",
   "metadata": {},
   "outputs": [],
   "source": [
    "std_scaler = preprocessing_dict['scaler']\n",
    "ohe = preprocessing_dict['encoder']"
   ]
  },
  {
   "cell_type": "code",
   "execution_count": 7,
   "id": "7425646c-8852-4f10-a0b7-950491844812",
   "metadata": {},
   "outputs": [],
   "source": [
    "binary_cols = ['Sex', 'Ascites', 'Hepatomegaly', 'Spiders']\n",
    "num_cols = df_train.select_dtypes('number').columns.drop(['id', 'Stage'])\n",
    "obj_cols = df_train.select_dtypes('object').columns.drop('Status')"
   ]
  },
  {
   "cell_type": "code",
   "execution_count": 8,
   "id": "bae45ade-3a17-4b64-98f3-e828524250f0",
   "metadata": {},
   "outputs": [],
   "source": [
    "def category_generating(X, y = None):\n",
    "    X['Age_category'] = X.Age.apply(lambda x: 'Old' if x > X.Age.quantile(0.75) else ('Middle' if x <= X.Age.quantile(0.75) and x > X.Age.quantile(0.25) else 'Young'))\n",
    "    X['N_Days_category'] = X.N_Days.apply(lambda x: 'Many' if x > X.N_Days.quantile(0.75) else ('Middle' if x <= X.N_Days.quantile(0.75) and x > X.N_Days.quantile(0.25) else 'Few'))\n",
    "    X['Bilirubin_category'] = X.Bilirubin.apply(lambda x: 'High' if x > X.Bilirubin.quantile(0.75) else ('Middle' if x <= X.Bilirubin.quantile(0.75) and x > X.Bilirubin.quantile(0.25) else 'Low'))\n",
    "    X['Cholesterol_category'] = X.Cholesterol.apply(lambda x: 'High' if x > X.Cholesterol.quantile(0.75) else ('Middle' if x <= X.Cholesterol.quantile(0.75) and x > X.Cholesterol.quantile(0.25) else 'Low'))\n",
    "    X['Albumin_category'] = X.Albumin.apply(lambda x: 'High' if x > X.Albumin.quantile(0.75) else ('Middle' if x <= X.Albumin.quantile(0.75) and x > X.Albumin.quantile(0.25) else 'Low'))\n",
    "    X['Copper_category'] = X.Copper.apply(lambda x: 'High' if x > X.Copper.quantile(0.75) else ('Middle' if x <= X.Copper.quantile(0.75) and x > X.Copper.quantile(0.25) else 'Low'))\n",
    "    X['Alk_Phos_category'] = X.Alk_Phos.apply(lambda x: 'High' if x > X.Alk_Phos.quantile(0.75) else ('Middle' if x <= X.Alk_Phos.quantile(0.75) and x > X.Alk_Phos.quantile(0.25) else 'Low'))\n",
    "    X['SGOT_category'] = X.SGOT.apply(lambda x: 'High' if x > X.SGOT.quantile(0.75) else ('Middle' if x <= X.SGOT.quantile(0.75) and x > X.SGOT.quantile(0.25) else 'Low'))\n",
    "    X['Tryglicerides_category'] = X.Tryglicerides.apply(lambda x: 'High' if x > X.Tryglicerides.quantile(0.75) else ('Middle' if x <= X.Tryglicerides.quantile(0.75) and x > X.Tryglicerides.quantile(0.25) else 'Low'))\n",
    "    X['Platelets_category'] = X.Platelets.apply(lambda x: 'High' if x > X.Platelets.quantile(0.75) else ('Middle' if x <= X.Platelets.quantile(0.75) and x > X.Platelets.quantile(0.25) else 'Low'))\n",
    "    X['Prothrombin_category'] = X.Prothrombin.apply(lambda x: 'High' if x > X.Prothrombin.quantile(0.75) else ('Middle' if x <= X.Prothrombin.quantile(0.75) and x > X.Prothrombin.quantile(0.25) else 'Low'))\n",
    "\n",
    "    return X"
   ]
  },
  {
   "cell_type": "code",
   "execution_count": 9,
   "id": "efe45887-4adb-451d-bb3b-f6ac14be0de4",
   "metadata": {},
   "outputs": [],
   "source": [
    "def columnsBinarising(X, y=None):\n",
    "    for bin_col in binary_cols:\n",
    "        X[bin_col] = X[bin_col].apply(lambda x: 1 if x == 'y' or x == 'M' else 0)\n",
    "\n",
    "    return X"
   ]
  },
  {
   "cell_type": "code",
   "execution_count": 10,
   "id": "92fa57e2-0f25-483f-84d2-2f5f7a2bad18",
   "metadata": {},
   "outputs": [],
   "source": [
    "def d_penicillamine_transforming(X, y=None):\n",
    "    X.Drug = X.Drug.apply(lambda x: 1 if x == 'D-penicillamine' else 0)\n",
    "\n",
    "    return X"
   ]
  },
  {
   "cell_type": "code",
   "execution_count": 11,
   "id": "ba5def6b-1e8c-49e7-a38b-5477265812ed",
   "metadata": {},
   "outputs": [],
   "source": [
    "def scaling(X, y=None):\n",
    "    std_scaled = std_scaler.transform(X[num_cols])\n",
    "    X[num_cols] = std_scaled\n",
    "\n",
    "    return X"
   ]
  },
  {
   "cell_type": "code",
   "execution_count": 12,
   "id": "fd45ecb6-2188-424e-a7e1-f1794bdd3622",
   "metadata": {},
   "outputs": [],
   "source": [
    "def encoding(X, y=None):\n",
    "    cat_cols = X.select_dtypes('object').columns\n",
    "    cat_cols = np.append(cat_cols, 'Stage')\n",
    "    ft = ohe.transform(X[cat_cols])\n",
    "    df_ft = pd.DataFrame(ft, columns=ohe.get_feature_names_out())\n",
    "    X.reset_index(drop=True, inplace=True)\n",
    "    df_ft.reset_index(drop=True, inplace=True)\n",
    "    df_ft = df_ft.astype('int64')\n",
    "    X = pd.concat([X, df_ft], axis=1)\n",
    "    X.drop(cat_cols, inplace = True, axis = 1)\n",
    "    \n",
    "    return X"
   ]
  },
  {
   "cell_type": "code",
   "execution_count": 13,
   "id": "c1a1ee13-1c67-4cdc-a0ae-ab24de105bb0",
   "metadata": {},
   "outputs": [],
   "source": [
    "preprocessor = Pipeline(\n",
    "    steps=\n",
    "    [\n",
    "        ('categoryGenerator', FunctionTransformer(func=category_generating)),\n",
    "        ('columnsBinariser', FunctionTransformer(func=columnsBinarising)),\n",
    "        ('d_penicillamine_transformer', FunctionTransformer(func=d_penicillamine_transforming)),\n",
    "        ('scaling', FunctionTransformer(func=scaling)),\n",
    "        ('encoding', FunctionTransformer(func=encoding)),\n",
    "        \n",
    "    ]\n",
    ")"
   ]
  },
  {
   "cell_type": "code",
   "execution_count": 78,
   "id": "aa1f36bd-fd63-4eb4-a06e-90d968413482",
   "metadata": {},
   "outputs": [
    {
     "data": {
      "text/plain": [
       "<Axes: >"
      ]
     },
     "execution_count": 78,
     "metadata": {},
     "output_type": "execute_result"
    },
    {
     "data": {
      "image/png": "[encoded data removed]",
      "text/plain": [
       "<Figure size 640x480 with 1 Axes>"
      ]
     },
     "metadata": {},
     "output_type": "display_data"
    }
   ],
   "source": [
    "X_train = df_train.drop(['id', 'Status'], axis = 1)\n",
    "y_train = df_train['Status']\n",
    "\n",
    "X_test = df_test.drop(['id'], axis = 1)\n",
    "y_train.hist()"
   ]
  },
  {
   "cell_type": "code",
   "execution_count": 79,
   "id": "94120ded-7a8c-4d8d-8d75-b24e51836a0c",
   "metadata": {},
   "outputs": [
    {
     "data": {
      "text/html": [
       "<div>\n",
       "<style scoped>\n",
       "    .dataframe tbody tr th:only-of-type {\n",
       "        vertical-align: middle;\n",
       "    }\n",
       "\n",
       "    .dataframe tbody tr th {\n",
       "        vertical-align: top;\n",
       "    }\n",
       "\n",
       "    .dataframe thead th {\n",
       "        text-align: right;\n",
       "    }\n",
       "</style>\n",
       "<table border=\"1\" class=\"dataframe\">\n",
       "  <thead>\n",
       "    <tr style=\"text-align: right;\">\n",
       "      <th></th>\n",
       "      <th>N_Days</th>\n",
       "      <th>Drug</th>\n",
       "      <th>Age</th>\n",
       "      <th>Sex</th>\n",
       "      <th>Ascites</th>\n",
       "      <th>Hepatomegaly</th>\n",
       "      <th>Spiders</th>\n",
       "      <th>Bilirubin</th>\n",
       "      <th>Cholesterol</th>\n",
       "      <th>Albumin</th>\n",
       "      <th>Copper</th>\n",
       "      <th>Alk_Phos</th>\n",
       "      <th>SGOT</th>\n",
       "      <th>Tryglicerides</th>\n",
       "      <th>Platelets</th>\n",
       "      <th>Prothrombin</th>\n",
       "      <th>Edema_N</th>\n",
       "      <th>Edema_S</th>\n",
       "      <th>Edema_Y</th>\n",
       "      <th>Age_category_Middle</th>\n",
       "      <th>Age_category_Old</th>\n",
       "      <th>Age_category_Young</th>\n",
       "      <th>N_Days_category_Few</th>\n",
       "      <th>N_Days_category_Many</th>\n",
       "      <th>N_Days_category_Middle</th>\n",
       "      <th>Bilirubin_category_High</th>\n",
       "      <th>Bilirubin_category_Low</th>\n",
       "      <th>Bilirubin_category_Middle</th>\n",
       "      <th>Cholesterol_category_High</th>\n",
       "      <th>Cholesterol_category_Low</th>\n",
       "      <th>Cholesterol_category_Middle</th>\n",
       "      <th>Albumin_category_High</th>\n",
       "      <th>Albumin_category_Low</th>\n",
       "      <th>Albumin_category_Middle</th>\n",
       "      <th>Copper_category_High</th>\n",
       "      <th>Copper_category_Low</th>\n",
       "      <th>Copper_category_Middle</th>\n",
       "      <th>Alk_Phos_category_High</th>\n",
       "      <th>Alk_Phos_category_Low</th>\n",
       "      <th>Alk_Phos_category_Middle</th>\n",
       "      <th>SGOT_category_High</th>\n",
       "      <th>SGOT_category_Low</th>\n",
       "      <th>SGOT_category_Middle</th>\n",
       "      <th>Tryglicerides_category_High</th>\n",
       "      <th>Tryglicerides_category_Low</th>\n",
       "      <th>Tryglicerides_category_Middle</th>\n",
       "      <th>Platelets_category_High</th>\n",
       "      <th>Platelets_category_Low</th>\n",
       "      <th>Platelets_category_Middle</th>\n",
       "      <th>Prothrombin_category_High</th>\n",
       "      <th>Prothrombin_category_Low</th>\n",
       "      <th>Prothrombin_category_Middle</th>\n",
       "      <th>Stage_1.0</th>\n",
       "      <th>Stage_2.0</th>\n",
       "      <th>Stage_3.0</th>\n",
       "      <th>Stage_4.0</th>\n",
       "    </tr>\n",
       "  </thead>\n",
       "  <tbody>\n",
       "    <tr>\n",
       "      <th>0</th>\n",
       "      <td>-0.942430</td>\n",
       "      <td>1</td>\n",
       "      <td>0.858448</td>\n",
       "      <td>1</td>\n",
       "      <td>0</td>\n",
       "      <td>0</td>\n",
       "      <td>0</td>\n",
       "      <td>-0.077237</td>\n",
       "      <td>-0.176908</td>\n",
       "      <td>-0.572940</td>\n",
       "      <td>1.160785</td>\n",
       "      <td>-0.113334</td>\n",
       "      <td>1.336304</td>\n",
       "      <td>-0.996442</td>\n",
       "      <td>1.472341</td>\n",
       "      <td>-1.189049</td>\n",
       "      <td>1</td>\n",
       "      <td>0</td>\n",
       "      <td>0</td>\n",
       "      <td>0</td>\n",
       "      <td>1</td>\n",
       "      <td>0</td>\n",
       "      <td>1</td>\n",
       "      <td>0</td>\n",
       "      <td>0</td>\n",
       "      <td>0</td>\n",
       "      <td>0</td>\n",
       "      <td>1</td>\n",
       "      <td>0</td>\n",
       "      <td>0</td>\n",
       "      <td>1</td>\n",
       "      <td>0</td>\n",
       "      <td>1</td>\n",
       "      <td>0</td>\n",
       "      <td>1</td>\n",
       "      <td>0</td>\n",
       "      <td>0</td>\n",
       "      <td>0</td>\n",
       "      <td>0</td>\n",
       "      <td>1</td>\n",
       "      <td>1</td>\n",
       "      <td>0</td>\n",
       "      <td>0</td>\n",
       "      <td>0</td>\n",
       "      <td>1</td>\n",
       "      <td>0</td>\n",
       "      <td>1</td>\n",
       "      <td>0</td>\n",
       "      <td>0</td>\n",
       "      <td>0</td>\n",
       "      <td>1</td>\n",
       "      <td>0</td>\n",
       "      <td>0</td>\n",
       "      <td>0</td>\n",
       "      <td>1</td>\n",
       "      <td>0</td>\n",
       "    </tr>\n",
       "    <tr>\n",
       "      <th>1</th>\n",
       "      <td>0.497025</td>\n",
       "      <td>0</td>\n",
       "      <td>0.234760</td>\n",
       "      <td>0</td>\n",
       "      <td>0</td>\n",
       "      <td>0</td>\n",
       "      <td>0</td>\n",
       "      <td>-0.444429</td>\n",
       "      <td>0.068784</td>\n",
       "      <td>-0.024043</td>\n",
       "      <td>-0.275420</td>\n",
       "      <td>-0.197909</td>\n",
       "      <td>0.414968</td>\n",
       "      <td>-0.520497</td>\n",
       "      <td>1.095026</td>\n",
       "      <td>0.474024</td>\n",
       "      <td>1</td>\n",
       "      <td>0</td>\n",
       "      <td>0</td>\n",
       "      <td>1</td>\n",
       "      <td>0</td>\n",
       "      <td>0</td>\n",
       "      <td>0</td>\n",
       "      <td>0</td>\n",
       "      <td>1</td>\n",
       "      <td>0</td>\n",
       "      <td>0</td>\n",
       "      <td>1</td>\n",
       "      <td>0</td>\n",
       "      <td>0</td>\n",
       "      <td>1</td>\n",
       "      <td>0</td>\n",
       "      <td>0</td>\n",
       "      <td>1</td>\n",
       "      <td>0</td>\n",
       "      <td>0</td>\n",
       "      <td>1</td>\n",
       "      <td>0</td>\n",
       "      <td>0</td>\n",
       "      <td>1</td>\n",
       "      <td>0</td>\n",
       "      <td>0</td>\n",
       "      <td>1</td>\n",
       "      <td>0</td>\n",
       "      <td>0</td>\n",
       "      <td>1</td>\n",
       "      <td>1</td>\n",
       "      <td>0</td>\n",
       "      <td>0</td>\n",
       "      <td>0</td>\n",
       "      <td>0</td>\n",
       "      <td>1</td>\n",
       "      <td>0</td>\n",
       "      <td>0</td>\n",
       "      <td>1</td>\n",
       "      <td>0</td>\n",
       "    </tr>\n",
       "    <tr>\n",
       "      <th>2</th>\n",
       "      <td>1.277529</td>\n",
       "      <td>0</td>\n",
       "      <td>-1.262634</td>\n",
       "      <td>0</td>\n",
       "      <td>0</td>\n",
       "      <td>0</td>\n",
       "      <td>0</td>\n",
       "      <td>0.185043</td>\n",
       "      <td>-0.263923</td>\n",
       "      <td>0.004846</td>\n",
       "      <td>0.620561</td>\n",
       "      <td>-0.413812</td>\n",
       "      <td>0.097266</td>\n",
       "      <td>-1.243933</td>\n",
       "      <td>-0.757248</td>\n",
       "      <td>1.369525</td>\n",
       "      <td>0</td>\n",
       "      <td>0</td>\n",
       "      <td>1</td>\n",
       "      <td>0</td>\n",
       "      <td>0</td>\n",
       "      <td>1</td>\n",
       "      <td>0</td>\n",
       "      <td>1</td>\n",
       "      <td>0</td>\n",
       "      <td>1</td>\n",
       "      <td>0</td>\n",
       "      <td>0</td>\n",
       "      <td>0</td>\n",
       "      <td>0</td>\n",
       "      <td>1</td>\n",
       "      <td>0</td>\n",
       "      <td>0</td>\n",
       "      <td>1</td>\n",
       "      <td>1</td>\n",
       "      <td>0</td>\n",
       "      <td>0</td>\n",
       "      <td>0</td>\n",
       "      <td>0</td>\n",
       "      <td>1</td>\n",
       "      <td>0</td>\n",
       "      <td>0</td>\n",
       "      <td>1</td>\n",
       "      <td>0</td>\n",
       "      <td>1</td>\n",
       "      <td>0</td>\n",
       "      <td>0</td>\n",
       "      <td>1</td>\n",
       "      <td>0</td>\n",
       "      <td>1</td>\n",
       "      <td>0</td>\n",
       "      <td>0</td>\n",
       "      <td>0</td>\n",
       "      <td>0</td>\n",
       "      <td>0</td>\n",
       "      <td>1</td>\n",
       "    </tr>\n",
       "    <tr>\n",
       "      <th>3</th>\n",
       "      <td>0.498852</td>\n",
       "      <td>0</td>\n",
       "      <td>0.023603</td>\n",
       "      <td>0</td>\n",
       "      <td>0</td>\n",
       "      <td>0</td>\n",
       "      <td>0</td>\n",
       "      <td>-0.523113</td>\n",
       "      <td>-0.484022</td>\n",
       "      <td>-0.139601</td>\n",
       "      <td>-0.341301</td>\n",
       "      <td>-0.086017</td>\n",
       "      <td>-0.887610</td>\n",
       "      <td>-0.368194</td>\n",
       "      <td>0.043117</td>\n",
       "      <td>0.090238</td>\n",
       "      <td>1</td>\n",
       "      <td>0</td>\n",
       "      <td>0</td>\n",
       "      <td>1</td>\n",
       "      <td>0</td>\n",
       "      <td>0</td>\n",
       "      <td>0</td>\n",
       "      <td>0</td>\n",
       "      <td>1</td>\n",
       "      <td>0</td>\n",
       "      <td>1</td>\n",
       "      <td>0</td>\n",
       "      <td>0</td>\n",
       "      <td>0</td>\n",
       "      <td>1</td>\n",
       "      <td>0</td>\n",
       "      <td>0</td>\n",
       "      <td>1</td>\n",
       "      <td>0</td>\n",
       "      <td>0</td>\n",
       "      <td>1</td>\n",
       "      <td>0</td>\n",
       "      <td>0</td>\n",
       "      <td>1</td>\n",
       "      <td>0</td>\n",
       "      <td>1</td>\n",
       "      <td>0</td>\n",
       "      <td>0</td>\n",
       "      <td>0</td>\n",
       "      <td>1</td>\n",
       "      <td>0</td>\n",
       "      <td>0</td>\n",
       "      <td>1</td>\n",
       "      <td>0</td>\n",
       "      <td>0</td>\n",
       "      <td>1</td>\n",
       "      <td>0</td>\n",
       "      <td>0</td>\n",
       "      <td>1</td>\n",
       "      <td>0</td>\n",
       "    </tr>\n",
       "    <tr>\n",
       "      <th>4</th>\n",
       "      <td>-1.135271</td>\n",
       "      <td>0</td>\n",
       "      <td>-0.466107</td>\n",
       "      <td>0</td>\n",
       "      <td>0</td>\n",
       "      <td>0</td>\n",
       "      <td>0</td>\n",
       "      <td>-0.391973</td>\n",
       "      <td>-0.023351</td>\n",
       "      <td>0.293739</td>\n",
       "      <td>-0.275420</td>\n",
       "      <td>-0.333965</td>\n",
       "      <td>0.224347</td>\n",
       "      <td>-0.368194</td>\n",
       "      <td>0.374697</td>\n",
       "      <td>-0.037691</td>\n",
       "      <td>1</td>\n",
       "      <td>0</td>\n",
       "      <td>0</td>\n",
       "      <td>1</td>\n",
       "      <td>0</td>\n",
       "      <td>0</td>\n",
       "      <td>1</td>\n",
       "      <td>0</td>\n",
       "      <td>0</td>\n",
       "      <td>0</td>\n",
       "      <td>0</td>\n",
       "      <td>1</td>\n",
       "      <td>0</td>\n",
       "      <td>0</td>\n",
       "      <td>1</td>\n",
       "      <td>0</td>\n",
       "      <td>0</td>\n",
       "      <td>1</td>\n",
       "      <td>0</td>\n",
       "      <td>0</td>\n",
       "      <td>1</td>\n",
       "      <td>0</td>\n",
       "      <td>0</td>\n",
       "      <td>1</td>\n",
       "      <td>0</td>\n",
       "      <td>0</td>\n",
       "      <td>1</td>\n",
       "      <td>0</td>\n",
       "      <td>0</td>\n",
       "      <td>1</td>\n",
       "      <td>0</td>\n",
       "      <td>0</td>\n",
       "      <td>1</td>\n",
       "      <td>0</td>\n",
       "      <td>0</td>\n",
       "      <td>1</td>\n",
       "      <td>0</td>\n",
       "      <td>0</td>\n",
       "      <td>0</td>\n",
       "      <td>1</td>\n",
       "    </tr>\n",
       "  </tbody>\n",
       "</table>\n",
       "</div>"
      ],
      "text/plain": [
       "     N_Days  Drug       Age  Sex  Ascites  Hepatomegaly  Spiders  Bilirubin  Cholesterol   Albumin    Copper  Alk_Phos      SGOT  Tryglicerides  Platelets  Prothrombin  Edema_N  Edema_S  Edema_Y  Age_category_Middle  Age_category_Old  Age_category_Young  N_Days_category_Few  N_Days_category_Many  N_Days_category_Middle  Bilirubin_category_High  Bilirubin_category_Low  Bilirubin_category_Middle  Cholesterol_category_High  Cholesterol_category_Low  Cholesterol_category_Middle  Albumin_category_High  Albumin_category_Low  Albumin_category_Middle  Copper_category_High  Copper_category_Low  Copper_category_Middle  Alk_Phos_category_High  Alk_Phos_category_Low  Alk_Phos_category_Middle  SGOT_category_High  SGOT_category_Low  SGOT_category_Middle  Tryglicerides_category_High  Tryglicerides_category_Low  Tryglicerides_category_Middle  Platelets_category_High  Platelets_category_Low  Platelets_category_Middle  Prothrombin_category_High  Prothrombin_category_Low  Prothrombin_category_Middle   \n",
       "0 -0.942430     1  0.858448    1        0             0        0  -0.077237    -0.176908 -0.572940  1.160785 -0.113334  1.336304      -0.996442   1.472341    -1.189049        1        0        0                    0                 1                   0                    1                     0                       0                        0                       0                          1                          0                         0                            1                      0                     1                        0                     1                    0                       0                       0                      0                         1                   1                  0                     0                            0                           1                              0                        1                       0                          0                          0                         1                            0  \\\n",
       "1  0.497025     0  0.234760    0        0             0        0  -0.444429     0.068784 -0.024043 -0.275420 -0.197909  0.414968      -0.520497   1.095026     0.474024        1        0        0                    1                 0                   0                    0                     0                       1                        0                       0                          1                          0                         0                            1                      0                     0                        1                     0                    0                       1                       0                      0                         1                   0                  0                     1                            0                           0                              1                        1                       0                          0                          0                         0                            1   \n",
       "2  1.277529     0 -1.262634    0        0             0        0   0.185043    -0.263923  0.004846  0.620561 -0.413812  0.097266      -1.243933  -0.757248     1.369525        0        0        1                    0                 0                   1                    0                     1                       0                        1                       0                          0                          0                         0                            1                      0                     0                        1                     1                    0                       0                       0                      0                         1                   0                  0                     1                            0                           1                              0                        0                       1                          0                          1                         0                            0   \n",
       "3  0.498852     0  0.023603    0        0             0        0  -0.523113    -0.484022 -0.139601 -0.341301 -0.086017 -0.887610      -0.368194   0.043117     0.090238        1        0        0                    1                 0                   0                    0                     0                       1                        0                       1                          0                          0                         0                            1                      0                     0                        1                     0                    0                       1                       0                      0                         1                   0                  1                     0                            0                           0                              1                        0                       0                          1                          0                         0                            1   \n",
       "4 -1.135271     0 -0.466107    0        0             0        0  -0.391973    -0.023351  0.293739 -0.275420 -0.333965  0.224347      -0.368194   0.374697    -0.037691        1        0        0                    1                 0                   0                    1                     0                       0                        0                       0                          1                          0                         0                            1                      0                     0                        1                     0                    0                       1                       0                      0                         1                   0                  0                     1                            0                           0                              1                        0                       0                          1                          0                         0                            1   \n",
       "\n",
       "   Stage_1.0  Stage_2.0  Stage_3.0  Stage_4.0  \n",
       "0          0          0          1          0  \n",
       "1          0          0          1          0  \n",
       "2          0          0          0          1  \n",
       "3          0          0          1          0  \n",
       "4          0          0          0          1  "
      ]
     },
     "execution_count": 79,
     "metadata": {},
     "output_type": "execute_result"
    }
   ],
   "source": [
    "X_train = preprocessor.transform(X_train)\n",
    "X_train.head()"
   ]
  },
  {
   "cell_type": "code",
   "execution_count": 80,
   "id": "4860b251-e3e2-46fa-a55a-a1893c09e56f",
   "metadata": {},
   "outputs": [],
   "source": [
    "X_test = preprocessor.transform(X_test)"
   ]
  },
  {
   "cell_type": "code",
   "execution_count": 81,
   "id": "9489eb0d-dd30-4736-868f-46ac891b0ce4",
   "metadata": {},
   "outputs": [
    {
     "data": {
      "text/plain": [
       "array([2, 0, 2, ..., 2, 2, 0])"
      ]
     },
     "execution_count": 81,
     "metadata": {},
     "output_type": "execute_result"
    }
   ],
   "source": [
    "# encode class values as integers\n",
    "encoder = LabelEncoder()\n",
    "encoder.fit(y_train)\n",
    "encoded_Y_train = encoder.transform(y_train)\n",
    "encoded_Y_train"
   ]
  },
  {
   "cell_type": "code",
   "execution_count": 82,
   "id": "4d6322e6-0239-4895-b473-9f93be2e9b22",
   "metadata": {},
   "outputs": [
    {
     "data": {
      "text/plain": [
       "array([[0., 0., 1.],\n",
       "       [1., 0., 0.],\n",
       "       [0., 0., 1.],\n",
       "       ...,\n",
       "       [0., 0., 1.],\n",
       "       [0., 0., 1.],\n",
       "       [1., 0., 0.]], dtype=float32)"
      ]
     },
     "execution_count": 82,
     "metadata": {},
     "output_type": "execute_result"
    }
   ],
   "source": [
    "# convert integers to dummy variables (i.e. one hot encoded)\n",
    "dummy_y_train = np_utils.to_categorical(encoded_Y_train)\n",
    "dummy_y_train"
   ]
  },
  {
   "cell_type": "code",
   "execution_count": 70,
   "id": "138b8ba0-109c-4e0d-949e-7b623ef66ce4",
   "metadata": {},
   "outputs": [
    {
     "ename": "NameError",
     "evalue": "name 'dummy_y' is not defined",
     "output_type": "error",
     "traceback": [
      "\u001b[1;31m---------------------------------------------------------------------------\u001b[0m",
      "\u001b[1;31mNameError\u001b[0m                                 Traceback (most recent call last)",
      "Cell \u001b[1;32mIn[70], line 1\u001b[0m\n\u001b[1;32m----> 1\u001b[0m X_train, X_test, y_train, y_test \u001b[38;5;241m=\u001b[39m train_test_split(X, \u001b[43mdummy_y\u001b[49m, train_size\u001b[38;5;241m=\u001b[39m\u001b[38;5;241m0.3\u001b[39m, shuffle\u001b[38;5;241m=\u001b[39m\u001b[38;5;28;01mTrue\u001b[39;00m, random_state \u001b[38;5;241m=\u001b[39m RANDOM_SEED)\n",
      "\u001b[1;31mNameError\u001b[0m: name 'dummy_y' is not defined"
     ]
    }
   ],
   "source": [
    "X_train, X_test, y_train, y_test = train_test_split(X, dummy_y, train_size=0.3, shuffle=True, random_state = RANDOM_SEED)"
   ]
  },
  {
   "cell_type": "code",
   "execution_count": 83,
   "id": "6bff009d-445d-4650-afda-3d18dc8f863a",
   "metadata": {},
   "outputs": [],
   "source": [
    "input_count = X_train.shape[1]"
   ]
  },
  {
   "cell_type": "code",
   "execution_count": 84,
   "id": "916e2415-b622-4638-96d4-6bd3322a7d45",
   "metadata": {},
   "outputs": [],
   "source": [
    "# define baseline model\n",
    "def baseline_model():\n",
    " # create model\n",
    " model = Sequential()\n",
    " model.add(Dense(100, input_dim=input_count, activation='relu'))\n",
    " model.add(Dense(100, activation='sigmoid'))\n",
    " model.add(Dense(3, activation='softmax'))\n",
    " # Compile model\n",
    " model.compile(loss='categorical_crossentropy', optimizer='adam', metrics=['accuracy'])\n",
    " return model"
   ]
  },
  {
   "cell_type": "code",
   "execution_count": 85,
   "id": "66590837-42c1-490a-9d66-34fc22ef5f12",
   "metadata": {},
   "outputs": [
    {
     "name": "stderr",
     "output_type": "stream",
     "text": [
      "C:\\Users\\ACER\\AppData\\Local\\Temp\\ipykernel_23388\\3830666531.py:1: DeprecationWarning: KerasClassifier is deprecated, use Sci-Keras (https://github.com/adriangb/scikeras) instead. See https://www.adriangb.com/scikeras/stable/migration.html for help migrating.\n",
      "  estimator = KerasClassifier(build_fn=baseline_model, epochs=200, batch_size=1024, verbose=0)\n"
     ]
    }
   ],
   "source": [
    "estimator = KerasClassifier(build_fn=baseline_model, epochs=200, batch_size=1024, verbose=0)"
   ]
  },
  {
   "cell_type": "code",
   "execution_count": 86,
   "id": "b2619354-5fb3-4a92-94cf-70d6da626b05",
   "metadata": {},
   "outputs": [],
   "source": [
    "kfold = KFold(n_splits=10, shuffle=True)"
   ]
  },
  {
   "cell_type": "code",
   "execution_count": 87,
   "id": "cc427f3a-f68c-4800-bf16-153cc40c9aa4",
   "metadata": {},
   "outputs": [
    {
     "name": "stdout",
     "output_type": "stream",
     "text": [
      "Baseline: 78.89% (1.75%)\n"
     ]
    }
   ],
   "source": [
    "#results = cross_val_score(estimator, X_train, dummy_y_train, cv=kfold, n_jobs = -1)\n",
    "results = cross_val_score(estimator, X_train, encoded_Y_train, cv=kfold, n_jobs = -1)\n",
    "print(\"Baseline: %.2f%% (%.2f%%)\" % (results.mean()*100, results.std()*100))"
   ]
  },
  {
   "cell_type": "code",
   "execution_count": 88,
   "id": "ec04ac03-a0fb-4fa4-b726-7090140dc1eb",
   "metadata": {},
   "outputs": [],
   "source": [
    "class_weights = class_weight.compute_class_weight(\n",
    "    class_weight = \"balanced\",\n",
    "                                        classes = np.unique(y_train),\n",
    "                                        y = y_train  \n",
    "   )\n",
    "class_weights = dict(enumerate(class_weights))"
   ]
  },
  {
   "cell_type": "code",
   "execution_count": 89,
   "id": "0e1404af-8af3-4056-91e7-4f9a127e0354",
   "metadata": {},
   "outputs": [
    {
     "data": {
      "text/plain": [
       "<keras.callbacks.History at 0x284c7b16290>"
      ]
     },
     "execution_count": 89,
     "metadata": {},
     "output_type": "execute_result"
    }
   ],
   "source": [
    "estimator.fit(X_train, encoded_Y_train,\n",
    "             batch_size=1024,\n",
    "              epochs=3,\n",
    "              class_weight=class_weights,\n",
    "              shuffle=True\n",
    "             )"
   ]
  },
  {
   "cell_type": "code",
   "execution_count": 90,
   "id": "56d6c8d9-391e-41fc-942d-20100d553399",
   "metadata": {},
   "outputs": [
    {
     "name": "stdout",
     "output_type": "stream",
     "text": [
      "248/248 [==============================] - 0s 532us/step\n"
     ]
    },
    {
     "data": {
      "text/plain": [
       "array([2, 0, 2, ..., 2, 0, 0])"
      ]
     },
     "execution_count": 90,
     "metadata": {},
     "output_type": "execute_result"
    }
   ],
   "source": [
    "pred_train = estimator.predict(X_train)\n",
    "pred_train"
   ]
  },
  {
   "cell_type": "code",
   "execution_count": 91,
   "id": "5a8236d9-432e-46aa-9be1-b43b217cfb1a",
   "metadata": {},
   "outputs": [
    {
     "name": "stdout",
     "output_type": "stream",
     "text": [
      "165/165 [==============================] - 0s 609us/step\n"
     ]
    },
    {
     "data": {
      "text/plain": [
       "array([0, 1, 2, ..., 0, 0, 2])"
      ]
     },
     "execution_count": 91,
     "metadata": {},
     "output_type": "execute_result"
    }
   ],
   "source": [
    "pred_test = estimator.predict(X_test)\n",
    "pred_test"
   ]
  },
  {
   "cell_type": "code",
   "execution_count": 92,
   "id": "82d866b5-f8b1-487c-af08-7939e89ff6a0",
   "metadata": {},
   "outputs": [
    {
     "name": "stdout",
     "output_type": "stream",
     "text": [
      "165/165 [==============================] - 0s 628us/step\n"
     ]
    },
    {
     "data": {
      "text/plain": [
       "array([[0.5269994 , 0.26746747, 0.20553307],\n",
       "       [0.3440973 , 0.45457426, 0.20132846],\n",
       "       [0.26246056, 0.32202235, 0.41551706],\n",
       "       ...,\n",
       "       [0.6022716 , 0.23673002, 0.16099837],\n",
       "       [0.42416188, 0.4149295 , 0.16090862],\n",
       "       [0.31282833, 0.2174932 , 0.4696785 ]], dtype=float32)"
      ]
     },
     "execution_count": 92,
     "metadata": {},
     "output_type": "execute_result"
    }
   ],
   "source": [
    "probs = estimator.predict_proba(X_test)\n",
    "probs"
   ]
  },
  {
   "cell_type": "code",
   "execution_count": 35,
   "id": "228cd700-90ad-4128-a49b-82a33ec57271",
   "metadata": {},
   "outputs": [],
   "source": [
    "#roc_auc_score(pred_train, y_train)"
   ]
  },
  {
   "cell_type": "code",
   "execution_count": 93,
   "id": "9c66cbe2-9d35-4295-b651-e98c38b0f605",
   "metadata": {},
   "outputs": [
    {
     "data": {
      "text/plain": [
       "array([0, 1, 2])"
      ]
     },
     "execution_count": 93,
     "metadata": {},
     "output_type": "execute_result"
    }
   ],
   "source": [
    "estimator.classes_"
   ]
  },
  {
   "cell_type": "code",
   "execution_count": null,
   "id": "ae6247c8-5785-4534-bafc-a37b2441ca4d",
   "metadata": {},
   "outputs": [],
   "source": []
  },
  {
   "cell_type": "code",
   "execution_count": 37,
   "id": "cd6056f1-bb61-43ee-8569-fa7d8c524dae",
   "metadata": {},
   "outputs": [
    {
     "data": {
      "text/html": [
       "<div>\n",
       "<style scoped>\n",
       "    .dataframe tbody tr th:only-of-type {\n",
       "        vertical-align: middle;\n",
       "    }\n",
       "\n",
       "    .dataframe tbody tr th {\n",
       "        vertical-align: top;\n",
       "    }\n",
       "\n",
       "    .dataframe thead th {\n",
       "        text-align: right;\n",
       "    }\n",
       "</style>\n",
       "<table border=\"1\" class=\"dataframe\">\n",
       "  <thead>\n",
       "    <tr style=\"text-align: right;\">\n",
       "      <th></th>\n",
       "      <th>id</th>\n",
       "      <th>Status_C</th>\n",
       "      <th>Status_CL</th>\n",
       "      <th>Status_D</th>\n",
       "    </tr>\n",
       "  </thead>\n",
       "  <tbody>\n",
       "    <tr>\n",
       "      <th>0</th>\n",
       "      <td>7905</td>\n",
       "      <td>0.366408</td>\n",
       "      <td>0.308692</td>\n",
       "      <td>0.324901</td>\n",
       "    </tr>\n",
       "    <tr>\n",
       "      <th>1</th>\n",
       "      <td>7906</td>\n",
       "      <td>0.315069</td>\n",
       "      <td>0.484544</td>\n",
       "      <td>0.200387</td>\n",
       "    </tr>\n",
       "    <tr>\n",
       "      <th>2</th>\n",
       "      <td>7907</td>\n",
       "      <td>0.237131</td>\n",
       "      <td>0.265584</td>\n",
       "      <td>0.497285</td>\n",
       "    </tr>\n",
       "    <tr>\n",
       "      <th>3</th>\n",
       "      <td>7908</td>\n",
       "      <td>0.566847</td>\n",
       "      <td>0.269424</td>\n",
       "      <td>0.163729</td>\n",
       "    </tr>\n",
       "    <tr>\n",
       "      <th>4</th>\n",
       "      <td>7909</td>\n",
       "      <td>0.312091</td>\n",
       "      <td>0.376660</td>\n",
       "      <td>0.311249</td>\n",
       "    </tr>\n",
       "    <tr>\n",
       "      <th>...</th>\n",
       "      <td>...</td>\n",
       "      <td>...</td>\n",
       "      <td>...</td>\n",
       "      <td>...</td>\n",
       "    </tr>\n",
       "    <tr>\n",
       "      <th>5266</th>\n",
       "      <td>13171</td>\n",
       "      <td>0.375035</td>\n",
       "      <td>0.363990</td>\n",
       "      <td>0.260975</td>\n",
       "    </tr>\n",
       "    <tr>\n",
       "      <th>5267</th>\n",
       "      <td>13172</td>\n",
       "      <td>0.536661</td>\n",
       "      <td>0.257455</td>\n",
       "      <td>0.205884</td>\n",
       "    </tr>\n",
       "    <tr>\n",
       "      <th>5268</th>\n",
       "      <td>13173</td>\n",
       "      <td>0.512657</td>\n",
       "      <td>0.274269</td>\n",
       "      <td>0.213075</td>\n",
       "    </tr>\n",
       "    <tr>\n",
       "      <th>5269</th>\n",
       "      <td>13174</td>\n",
       "      <td>0.514387</td>\n",
       "      <td>0.333366</td>\n",
       "      <td>0.152247</td>\n",
       "    </tr>\n",
       "    <tr>\n",
       "      <th>5270</th>\n",
       "      <td>13175</td>\n",
       "      <td>0.297416</td>\n",
       "      <td>0.166996</td>\n",
       "      <td>0.535588</td>\n",
       "    </tr>\n",
       "  </tbody>\n",
       "</table>\n",
       "<p>5271 rows × 4 columns</p>\n",
       "</div>"
      ],
      "text/plain": [
       "         id  Status_C  Status_CL  Status_D\n",
       "0      7905  0.366408   0.308692  0.324901\n",
       "1      7906  0.315069   0.484544  0.200387\n",
       "2      7907  0.237131   0.265584  0.497285\n",
       "3      7908  0.566847   0.269424  0.163729\n",
       "4      7909  0.312091   0.376660  0.311249\n",
       "...     ...       ...        ...       ...\n",
       "5266  13171  0.375035   0.363990  0.260975\n",
       "5267  13172  0.536661   0.257455  0.205884\n",
       "5268  13173  0.512657   0.274269  0.213075\n",
       "5269  13174  0.514387   0.333366  0.152247\n",
       "5270  13175  0.297416   0.166996  0.535588\n",
       "\n",
       "[5271 rows x 4 columns]"
      ]
     },
     "execution_count": 37,
     "metadata": {},
     "output_type": "execute_result"
    }
   ],
   "source": [
    "result_df = pd.DataFrame(probs)\n",
    "result_df = result_df.rename({result_df.columns[0]: 'Status_' + estimator.classes_[0], result_df.columns[1]: 'Status_' + estimator.classes_[1], result_df.columns[2]: 'Status_' + estimator.classes_[2]}, axis=1)\n",
    "result_df['id'] = df_test.id\n",
    "result_df = result_df[['id', 'Status_C', 'Status_CL', 'Status_D']]\n",
    "result_df"
   ]
  },
  {
   "cell_type": "code",
   "execution_count": 32,
   "id": "2f70b2fd-5694-4f94-bc19-9206b1770bce",
   "metadata": {},
   "outputs": [],
   "source": [
    "result_df.to_csv('../data/result_3.csv', index = False)"
   ]
  },
  {
   "cell_type": "code",
   "execution_count": 249,
   "id": "6f2d98d9-4b1c-444c-b100-7be6f4096969",
   "metadata": {},
   "outputs": [],
   "source": [
    "X = df_train.drop(['id', 'Status'], axis = 1)\n",
    "y = df_train['Status']\n",
    "y = y.apply(lambda x: 0 if x == 'C' else (1 if x == 'D' else 2))\n",
    "y = y.astype('int64')"
   ]
  },
  {
   "cell_type": "code",
   "execution_count": 250,
   "id": "53653210-35bb-4f23-8237-28297aabe65c",
   "metadata": {},
   "outputs": [],
   "source": [
    "X_train, X_test, y_train, y_test = train_test_split(X, y, train_size=0.3, shuffle=True, random_state = RANDOM_SEED)"
   ]
  },
  {
   "cell_type": "code",
   "execution_count": 251,
   "id": "e7a0f049-1e4c-4413-b507-ac18a5466163",
   "metadata": {},
   "outputs": [],
   "source": [
    "X_train = preprocessor.transform(X_train)\n",
    "X_test = preprocessor.transform(X_test)"
   ]
  },
  {
   "cell_type": "code",
   "execution_count": 252,
   "id": "0fda8abe-0b27-4790-98a2-435ab2c4678f",
   "metadata": {},
   "outputs": [],
   "source": [
    "# define baseline model\n",
    "def baseline_model():\n",
    " # create model\n",
    " model = Sequential()\n",
    " model.add(Dense(448, input_dim=input_count, activation='gelu'))\n",
    " model.add(Dense(32, activation='exponential'))\n",
    " model.add(Dense(3, activation='softmax'))\n",
    " # Compile model\n",
    " model.compile(loss='categorical_crossentropy', optimizer='adam', metrics=['accuracy'])\n",
    " return model"
   ]
  },
  {
   "cell_type": "code",
   "execution_count": 253,
   "id": "c4fc3e66-f43f-4bc3-b520-af35fb25a91e",
   "metadata": {},
   "outputs": [
    {
     "name": "stderr",
     "output_type": "stream",
     "text": [
      "C:\\Users\\ACER\\AppData\\Local\\Temp\\ipykernel_23388\\3810148743.py:1: DeprecationWarning: KerasClassifier is deprecated, use Sci-Keras (https://github.com/adriangb/scikeras) instead. See https://www.adriangb.com/scikeras/stable/migration.html for help migrating.\n",
      "  estimator = KerasClassifier(build_fn=baseline_model, epochs=1000, batch_size=1024, verbose=0)\n"
     ]
    }
   ],
   "source": [
    "estimator = KerasClassifier(build_fn=baseline_model, epochs=1000, batch_size=1024, verbose=0)"
   ]
  },
  {
   "cell_type": "code",
   "execution_count": 254,
   "id": "2610b2f6-9e4b-42ca-8023-2a60a4189267",
   "metadata": {},
   "outputs": [],
   "source": [
    "import keras_tuner"
   ]
  },
  {
   "cell_type": "code",
   "execution_count": 255,
   "id": "097bf6ac-653a-4ca7-bbc9-95e56600fb3c",
   "metadata": {},
   "outputs": [
    {
     "data": {
      "text/plain": [
       "<keras.callbacks.History at 0x284dad01510>"
      ]
     },
     "execution_count": 255,
     "metadata": {},
     "output_type": "execute_result"
    }
   ],
   "source": [
    "class_weights = class_weight.compute_class_weight(\n",
    "    class_weight = \"balanced\",\n",
    "                                        classes = np.unique(y_train),\n",
    "                                        y = y_train  \n",
    "   )\n",
    "class_weights = dict(enumerate(class_weights))\n",
    "\n",
    "estimator.fit(X_train, y_train,\n",
    "              batch_size=1024,\n",
    "              epochs=3,\n",
    "              class_weight=class_weights,\n",
    "              #validation_data=(X_test, y_test),\n",
    "              shuffle=True)"
   ]
  },
  {
   "cell_type": "code",
   "execution_count": 256,
   "id": "2582260d-a781-49b5-b2ff-193e3328e01e",
   "metadata": {},
   "outputs": [],
   "source": [
    "#estimator.fit(X_train, y_train)"
   ]
  },
  {
   "cell_type": "code",
   "execution_count": 257,
   "id": "294d1a42-5c22-48ba-847f-bdaf944384cc",
   "metadata": {},
   "outputs": [
    {
     "name": "stdout",
     "output_type": "stream",
     "text": [
      "173/173 [==============================] - 0s 701us/step\n"
     ]
    },
    {
     "data": {
      "text/plain": [
       "array([[0.55003655, 0.19396739, 0.25599605],\n",
       "       [0.332969  , 0.334375  , 0.332656  ],\n",
       "       [0.8309724 , 0.07121066, 0.09781692],\n",
       "       ...,\n",
       "       [0.5232333 , 0.14362024, 0.33314648],\n",
       "       [0.65113556, 0.15245351, 0.19641092],\n",
       "       [0.8561229 , 0.06973161, 0.07414549]], dtype=float32)"
      ]
     },
     "execution_count": 257,
     "metadata": {},
     "output_type": "execute_result"
    }
   ],
   "source": [
    "probs = estimator.predict_proba(X_test)\n",
    "probs"
   ]
  },
  {
   "cell_type": "code",
   "execution_count": 258,
   "id": "aeefa387-53b8-40b0-9d25-a631ebda0581",
   "metadata": {},
   "outputs": [
    {
     "name": "stdout",
     "output_type": "stream",
     "text": [
      "173/173 [==============================] - 0s 769us/step\n"
     ]
    },
    {
     "data": {
      "text/plain": [
       "array([0, 1, 0, ..., 0, 0, 0], dtype=int64)"
      ]
     },
     "execution_count": 258,
     "metadata": {},
     "output_type": "execute_result"
    }
   ],
   "source": [
    "pred_test = estimator.predict(X_test)\n",
    "pred_test"
   ]
  },
  {
   "cell_type": "code",
   "execution_count": 259,
   "id": "5706a9ef-8e88-49c3-bc81-b6591cad40ce",
   "metadata": {},
   "outputs": [
    {
     "data": {
      "text/plain": [
       "0.8288045079572058"
      ]
     },
     "execution_count": 259,
     "metadata": {},
     "output_type": "execute_result"
    }
   ],
   "source": [
    "roc_auc_score(y_test, probs, multi_class = 'ovr')"
   ]
  },
  {
   "cell_type": "code",
   "execution_count": 234,
   "id": "8ac6f3cb-4d92-47ea-986f-57d44cbd6400",
   "metadata": {},
   "outputs": [
    {
     "name": "stdout",
     "output_type": "stream",
     "text": [
      "75/75 [==============================] - 0s 991us/step\n",
      "173/173 [==============================] - 0s 752us/step\n",
      "173/173 [==============================] - 0s 960us/step\n",
      "Модель: KerasClassifier\n",
      "Accuracy_test: 0.5811348030357788\n",
      "f1 score: 0.5811348030357788\n",
      "Precision: 0.5811348030357788\n",
      "Recall: 0.5811348030357788\n",
      "ROC_AUC: 0.7998576282877227\n",
      "\n"
     ]
    }
   ],
   "source": [
    "y_pred_train = estimator.predict(X_train)\n",
    "y_pred_test =estimator.predict(X_test)\n",
    "y_pred_prob_test = estimator.predict_proba(X_test) \n",
    "accuracy_score_test = accuracy_score(y_test, y_pred_test)\n",
    "accuracy_score_train = accuracy_score(y_train, y_pred_train)\n",
    "f1_test = f1_score(y_test, y_pred_test, average='micro')\n",
    "precision_test = precision_score(y_test, y_pred_test, average='micro')\n",
    "recall_test = recall_score(y_test, y_pred_test, average='micro')\n",
    "roc_auc_test = roc_auc_score(y_test, y_pred_prob_test, multi_class='ovr')\n",
    "\n",
    "print(f'Модель: {type(estimator).__name__}\\nAccuracy_test: {accuracy_score_test}\\nf1 score: {f1_test}\\nPrecision: {precision_test}\\nRecall: {recall_test}\\nROC_AUC: {roc_auc_test}\\n')"
   ]
  },
  {
   "cell_type": "code",
   "execution_count": 188,
   "id": "963b53b3-1f40-453f-addc-5605048ba19f",
   "metadata": {},
   "outputs": [],
   "source": [
    "from tensorflow.keras import layers"
   ]
  },
  {
   "cell_type": "code",
   "execution_count": null,
   "id": "6ead8286-1c79-4086-879a-6d3042b58843",
   "metadata": {},
   "outputs": [],
   "source": []
  },
  {
   "cell_type": "code",
   "execution_count": null,
   "id": "8a4b6834-a10d-45c4-8188-f134ca35e74d",
   "metadata": {},
   "outputs": [],
   "source": []
  },
  {
   "cell_type": "code",
   "execution_count": null,
   "id": "7874cbd6-b0ec-47f4-8e2d-b0e82ad4f129",
   "metadata": {},
   "outputs": [],
   "source": [
    "def baseline_model():\n",
    " # create model\n",
    " model = Sequential()\n",
    " model.add(Dense(100, input_dim=input_count, activation='relu'))\n",
    " model.add(Dense(100, activation='sigmoid'))\n",
    " model.add(Dense(3, activation='softmax'))\n",
    " # Compile model\n",
    " model.compile(loss='categorical_crossentropy', optimizer='adam', metrics=['accuracy'])\n",
    " return model"
   ]
  },
  {
   "cell_type": "code",
   "execution_count": 241,
   "id": "d893cf8a-37d3-46a4-95b2-683d52f2b8a3",
   "metadata": {},
   "outputs": [],
   "source": [
    "def build_model(hp):\n",
    "    model = Sequential()\n",
    "    model.add(layers.Flatten())\n",
    "        \n",
    "    model.add(\n",
    "        layers.Dense(\n",
    "            # Define the hyperparameter.\n",
    "            units=hp.Int(\"units1\", min_value=32, max_value=512, step=32),\n",
    "            input_dim=input_count,\n",
    "            activation=hp.Choice(\"activation1\", [\"relu\", \"tanh\", 'sigmoid', 'selu', 'elu', 'exponential', 'leaky_relu', 'relu6 ', 'silu', 'gelu', 'hard_sigmoid', 'linear', 'mish', 'log_softmax']),\n",
    "        )\n",
    "    )\n",
    "\n",
    "    model.add(\n",
    "        layers.Dense(\n",
    "            # Define the hyperparameter.\n",
    "            units=hp.Int(\"units2\", min_value=32, max_value=512, step=32),\n",
    "            activation=hp.Choice(\"activation2\", [\"relu\", \"tanh\", 'sigmoid', 'selu', 'elu', 'exponential', 'leaky_relu', 'relu6 ', 'silu', 'gelu', 'hard_sigmoid', 'linear', 'mish', 'log_softmax']),\n",
    "        \n",
    "        )\n",
    "    )\n",
    "    \n",
    "    model.add(layers.Dense(3, activation=\"softmax\"))\n",
    "    model.compile(\n",
    "        optimizer=\"adam\", loss=\"sparse_categorical_crossentropy\", metrics=[\"accuracy\"],\n",
    "    )\n",
    "    return model"
   ]
  },
  {
   "cell_type": "code",
   "execution_count": 242,
   "id": "95a71514-6f98-41a6-a662-6c1fb764c8fd",
   "metadata": {},
   "outputs": [
    {
     "data": {
      "text/plain": [
       "<keras.engine.sequential.Sequential at 0x284dae0fe90>"
      ]
     },
     "execution_count": 242,
     "metadata": {},
     "output_type": "execute_result"
    }
   ],
   "source": [
    "build_model(keras_tuner.HyperParameters())"
   ]
  },
  {
   "cell_type": "code",
   "execution_count": 243,
   "id": "4be382be-e70c-4dba-a5e1-a17331f0fbaf",
   "metadata": {},
   "outputs": [],
   "source": [
    "tuner = keras_tuner.RandomSearch(\n",
    "    hypermodel=build_model,\n",
    "    objective=\"val_accuracy\",\n",
    "    max_trials=3,\n",
    "    executions_per_trial=2,\n",
    "    overwrite=True,\n",
    "    directory=\"my_dir\",\n",
    "    project_name=\"helloworld\",\n",
    ")"
   ]
  },
  {
   "cell_type": "code",
   "execution_count": 244,
   "id": "a948ca35-ad47-44f1-8657-66a42da46c9d",
   "metadata": {},
   "outputs": [
    {
     "name": "stdout",
     "output_type": "stream",
     "text": [
      "Search space summary\n",
      "Default search space size: 4\n",
      "units1 (Int)\n",
      "{'default': None, 'conditions': [], 'min_value': 32, 'max_value': 512, 'step': 32, 'sampling': 'linear'}\n",
      "activation1 (Choice)\n",
      "{'default': 'relu', 'conditions': [], 'values': ['relu', 'tanh', 'sigmoid', 'selu', 'elu', 'exponential', 'leaky_relu', 'relu6 ', 'silu', 'gelu', 'hard_sigmoid', 'linear', 'mish', 'log_softmax'], 'ordered': False}\n",
      "units2 (Int)\n",
      "{'default': None, 'conditions': [], 'min_value': 32, 'max_value': 512, 'step': 32, 'sampling': 'linear'}\n",
      "activation2 (Choice)\n",
      "{'default': 'relu', 'conditions': [], 'values': ['relu', 'tanh', 'sigmoid', 'selu', 'elu', 'exponential', 'leaky_relu', 'relu6 ', 'silu', 'gelu', 'hard_sigmoid', 'linear', 'mish', 'log_softmax'], 'ordered': False}\n"
     ]
    }
   ],
   "source": [
    "tuner.search_space_summary()"
   ]
  },
  {
   "cell_type": "code",
   "execution_count": 245,
   "id": "eb613cdb-db1c-47d3-a66d-df250aa53d53",
   "metadata": {},
   "outputs": [
    {
     "name": "stdout",
     "output_type": "stream",
     "text": [
      "Trial 3 Complete [00h 00m 03s]\n",
      "val_accuracy: 0.8033971786499023\n",
      "\n",
      "Best val_accuracy So Far: 0.8047524392604828\n",
      "Total elapsed time: 00h 00m 06s\n"
     ]
    }
   ],
   "source": [
    "tuner.search(X_train, y_train, epochs=2, validation_data=(X_test, y_test))"
   ]
  },
  {
   "cell_type": "code",
   "execution_count": 247,
   "id": "28ac7d54-16ee-42b4-81d0-bbaab9e6336c",
   "metadata": {},
   "outputs": [
    {
     "name": "stdout",
     "output_type": "stream",
     "text": [
      "\n",
      "The hyperparameter search is complete. The optimal number of units in the first densely-connected\n",
      "layer is 448, 32, gelu, exponential.\n",
      "\n"
     ]
    }
   ],
   "source": [
    "best_hps=tuner.get_best_hyperparameters(num_trials=1)[0]\n",
    "\n",
    "print(f\"\"\"\n",
    "The hyperparameter search is complete. The optimal number of units in the first densely-connected\n",
    "layer is {best_hps.get('units1')}, {best_hps.get('units2')}, {best_hps.get('activation1')}, {best_hps.get('activation2')}.\n",
    "\"\"\")"
   ]
  },
  {
   "cell_type": "code",
   "execution_count": 212,
   "id": "9cdb13b5-deca-412d-bb4f-cf559b673195",
   "metadata": {},
   "outputs": [
    {
     "name": "stdout",
     "output_type": "stream",
     "text": [
      "WARNING:tensorflow:Detecting that an object or model or tf.train.Checkpoint is being deleted with unrestored values. See the following logs for the specific values in question. To silence these warnings, use `status.expect_partial()`. See https://www.tensorflow.org/api_docs/python/tf/train/Checkpoint#restorefor details about the status object returned by the restore function.\n",
      "WARNING:tensorflow:Value in checkpoint could not be found in the restored object: (root).layer_with_weights-0.kernel\n",
      "WARNING:tensorflow:Value in checkpoint could not be found in the restored object: (root).layer_with_weights-0.bias\n",
      "WARNING:tensorflow:Value in checkpoint could not be found in the restored object: (root).layer_with_weights-1.kernel\n",
      "WARNING:tensorflow:Value in checkpoint could not be found in the restored object: (root).layer_with_weights-1.bias\n",
      "WARNING:tensorflow:Value in checkpoint could not be found in the restored object: (root).optimizer._variables.1\n",
      "WARNING:tensorflow:Value in checkpoint could not be found in the restored object: (root).optimizer._variables.2\n",
      "WARNING:tensorflow:Value in checkpoint could not be found in the restored object: (root).optimizer._variables.3\n",
      "WARNING:tensorflow:Value in checkpoint could not be found in the restored object: (root).optimizer._variables.4\n",
      "WARNING:tensorflow:Value in checkpoint could not be found in the restored object: (root).optimizer._variables.5\n",
      "WARNING:tensorflow:Value in checkpoint could not be found in the restored object: (root).optimizer._variables.6\n",
      "WARNING:tensorflow:Value in checkpoint could not be found in the restored object: (root).optimizer._variables.7\n",
      "WARNING:tensorflow:Value in checkpoint could not be found in the restored object: (root).optimizer._variables.8\n"
     ]
    }
   ],
   "source": [
    "# Get the top 2 models.\n",
    "models = tuner.get_best_models(num_models=2)\n",
    "best_model = models[0]\n",
    "\n",
    "# Build the model.\n",
    "# Needed for `Sequential` without specified `input_shape`.\n",
    "best_model.build(input_shape=(None, 28, 28))\n",
    "best_model.summary()"
   ]
  },
  {
   "cell_type": "code",
   "execution_count": null,
   "id": "0556705d-868e-4061-9e7b-2a6a665e769c",
   "metadata": {},
   "outputs": [],
   "source": []
  }
 ],
 "metadata": {
  "kernelspec": {
   "display_name": "Python 3 (ipykernel)",
   "language": "python",
   "name": "python3"
  },
  "language_info": {
   "codemirror_mode": {
    "name": "ipython",
    "version": 3
   },
   "file_extension": ".py",
   "mimetype": "text/x-python",
   "name": "python",
   "nbconvert_exporter": "python",
   "pygments_lexer": "ipython3",
   "version": "3.11.5"
  }
 },
 "nbformat": 4,
 "nbformat_minor": 5
}
